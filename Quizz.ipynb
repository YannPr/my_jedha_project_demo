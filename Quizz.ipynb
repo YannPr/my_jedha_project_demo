{
 "cells": [
  {
   "cell_type": "code",
   "execution_count": 19,
   "metadata": {},
   "outputs": [],
   "source": [
    "#We define a function that will proceed each quesiton, a question is a list [question,answer]\n",
    "def party(lives,phase):\n",
    "    question = phase[0]\n",
    "    answer = phase[1]\n",
    "    while lives > 0 :\n",
    "        myanswer = input(question)\n",
    "        myanswer = myanswer.lower()\n",
    "        if myanswer == answer.lower():\n",
    "            print (\"Your answer is : {}. Good job! This is the right answer\".format(myanswer))\n",
    "            return True, lives\n",
    "        else: \n",
    "            lives -=1\n",
    "            print (\"Your answer is : {}. Too bad! that is not the correct answer. You have {} lives left. Try again\".format(myanswer, lives))\n",
    "        if lives == 0:\n",
    "            print(\"Oh no! You have lost the game...\")\n",
    "            return False, lives\n",
    "#We create a class Game that will create one instance per game. The liste in parameter is a list of lists, each element will be a list [question,answer]\n",
    "class Game ():\n",
    "    def __init__(self, lives, liste):\n",
    "        self.lives = lives\n",
    "        self.liste = liste\n",
    "    def play(self): #The method that will lauch the play \n",
    "        for phase in self.liste:\n",
    "            result,self.lives = party(self.lives, phase)\n",
    "            if result == False:\n",
    "                break\n",
    "        \n",
    "        if self.lives> 0:\n",
    "            print (\"You have won the game with {} lives left\".format(self.lives))\n",
    " "
   ]
  },
  {
   "cell_type": "code",
   "execution_count": 20,
   "metadata": {},
   "outputs": [
    {
     "name": "stdin",
     "output_type": "stream",
     "text": [
      "Combien de fois la France a gagné la coupe du monde ?  3\n"
     ]
    },
    {
     "name": "stdout",
     "output_type": "stream",
     "text": [
      "Your answer is : 3. Too bad! that is not the correct answer. You have 2 lives left. Try again\n"
     ]
    },
    {
     "name": "stdin",
     "output_type": "stream",
     "text": [
      "Combien de fois la France a gagné la coupe du monde ?  3\n"
     ]
    },
    {
     "name": "stdout",
     "output_type": "stream",
     "text": [
      "Your answer is : 3. Too bad! that is not the correct answer. You have 1 lives left. Try again\n"
     ]
    },
    {
     "name": "stdin",
     "output_type": "stream",
     "text": [
      "Combien de fois la France a gagné la coupe du monde ?  3\n"
     ]
    },
    {
     "name": "stdout",
     "output_type": "stream",
     "text": [
      "Your answer is : 3. Too bad! that is not the correct answer. You have 0 lives left. Try again\n",
      "Oh no! You have lost the game...\n"
     ]
    }
   ],
   "source": [
    "#### phase1 = [\"Combien de fois la France a gagné la coupe du monde ? \",\"2\"]\n",
    "phase2 = [\"Quand a été fondé Apple ? \" ,\"1976\"]\n",
    "phase3= [\"Qui a fondé SpaceX ? \",\"elon musk\"]\n",
    "game1 = Game(3,[phase1,phase2,phase3])\n",
    "game1.play()"
   ]
  }
 ],
 "metadata": {
  "kernelspec": {
   "display_name": "Python 3",
   "language": "python",
   "name": "python3"
  },
  "language_info": {
   "codemirror_mode": {
    "name": "ipython",
    "version": 3
   },
   "file_extension": ".py",
   "mimetype": "text/x-python",
   "name": "python",
   "nbconvert_exporter": "python",
   "pygments_lexer": "ipython3",
   "version": "3.8.6"
  }
 },
 "nbformat": 4,
 "nbformat_minor": 4
}
